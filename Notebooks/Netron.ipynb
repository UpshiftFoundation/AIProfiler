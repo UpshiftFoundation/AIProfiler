{
 "cells": [
  {
   "cell_type": "code",
   "execution_count": null,
   "id": "aaec68d3",
   "metadata": {},
   "outputs": [],
   "source": [
    "!pip install netron"
   ]
  },
  {
   "cell_type": "code",
   "execution_count": null,
   "id": "98b9fd03",
   "metadata": {},
   "outputs": [],
   "source": [
    "!python.exe -m pip install --upgrade pip"
   ]
  },
  {
   "cell_type": "code",
   "execution_count": null,
   "id": "7794da84",
   "metadata": {},
   "outputs": [],
   "source": [
    "!pip install onnxmltools"
   ]
  },
  {
   "cell_type": "code",
   "execution_count": null,
   "id": "821f3c4b",
   "metadata": {},
   "outputs": [],
   "source": [
    "!pip install transformers"
   ]
  },
  {
   "cell_type": "code",
   "execution_count": 1,
   "id": "06148d5e",
   "metadata": {
    "collapsed": true
   },
   "outputs": [
    {
     "name": "stdout",
     "output_type": "stream",
     "text": [
      "Defaulting to user installation because normal site-packages is not writeable\n",
      "Collecting torch\n",
      "  Downloading torch-2.0.0-cp39-cp39-win_amd64.whl (172.3 MB)\n",
      "     -------------------------------------- 172.3/172.3 MB 1.4 MB/s eta 0:00:00\n",
      "Requirement already satisfied: networkx in c:\\programdata\\anaconda3\\lib\\site-packages (from torch) (2.7.1)\n",
      "Requirement already satisfied: filelock in c:\\programdata\\anaconda3\\lib\\site-packages (from torch) (3.6.0)\n",
      "Requirement already satisfied: sympy in c:\\programdata\\anaconda3\\lib\\site-packages (from torch) (1.10.1)\n",
      "Requirement already satisfied: typing-extensions in c:\\programdata\\anaconda3\\lib\\site-packages (from torch) (4.1.1)\n",
      "Requirement already satisfied: jinja2 in c:\\programdata\\anaconda3\\lib\\site-packages (from torch) (2.11.3)\n",
      "Requirement already satisfied: MarkupSafe>=0.23 in c:\\programdata\\anaconda3\\lib\\site-packages (from jinja2->torch) (2.0.1)\n",
      "Requirement already satisfied: mpmath>=0.19 in c:\\programdata\\anaconda3\\lib\\site-packages (from sympy->torch) (1.2.1)\n",
      "Installing collected packages: torch\n",
      "Successfully installed torch-2.0.0\n"
     ]
    },
    {
     "name": "stderr",
     "output_type": "stream",
     "text": [
      "  WARNING: The scripts convert-caffe2-to-onnx.exe, convert-onnx-to-caffe2.exe and torchrun.exe are installed in 'C:\\Users\\Ahmed\\AppData\\Roaming\\Python\\Python39\\Scripts' which is not on PATH.\n",
      "  Consider adding this directory to PATH or, if you prefer to suppress this warning, use --no-warn-script-location.\n"
     ]
    }
   ],
   "source": [
    "!pip install torch"
   ]
  },
  {
   "cell_type": "code",
   "execution_count": 1,
   "id": "2d70d167",
   "metadata": {},
   "outputs": [],
   "source": [
    "import netron"
   ]
  },
  {
   "cell_type": "code",
   "execution_count": 2,
   "id": "83f8a399",
   "metadata": {},
   "outputs": [
    {
     "name": "stdout",
     "output_type": "stream",
     "text": [
      "Serving 'gpt-j-6B-int8-static/model.onnx' at http://localhost:8080\n"
     ]
    },
    {
     "data": {
      "text/plain": [
       "('localhost', 8080)"
      ]
     },
     "execution_count": 2,
     "metadata": {},
     "output_type": "execute_result"
    },
    {
     "name": "stderr",
     "output_type": "stream",
     "text": [
      "----------------------------------------\n",
      "Exception occurred during processing of request from ('127.0.0.1', 51307)\n",
      "----------------------------------------\n",
      "Exception occurred during processing of request from ('127.0.0.1', 51308)\n",
      "Traceback (most recent call last):\n",
      "  File \"C:\\ProgramData\\Anaconda3\\lib\\socketserver.py\", line 683, in process_request_thread\n",
      "    self.finish_request(request, client_address)\n",
      "  File \"C:\\ProgramData\\Anaconda3\\lib\\socketserver.py\", line 360, in finish_request\n",
      "    self.RequestHandlerClass(request, client_address, self)\n",
      "  File \"C:\\ProgramData\\Anaconda3\\lib\\socketserver.py\", line 747, in __init__\n",
      "    self.handle()\n",
      "  File \"C:\\ProgramData\\Anaconda3\\lib\\http\\server.py\", line 425, in handle\n",
      "    self.handle_one_request()\n",
      "  File \"C:\\ProgramData\\Anaconda3\\lib\\http\\server.py\", line 413, in handle_one_request\n",
      "    method()\n",
      "  File \"C:\\Users\\Ahmed\\AppData\\Roaming\\Python\\Python39\\site-packages\\netron\\server.py\", line 104, in do_GET\n",
      "    self._write(status_code, content_type, content)\n",
      "  File \"C:\\Users\\Ahmed\\AppData\\Roaming\\Python\\Python39\\site-packages\\netron\\server.py\", line 117, in _write\n",
      "    self.wfile.write(content)\n",
      "  File \"C:\\ProgramData\\Anaconda3\\lib\\socketserver.py\", line 826, in write\n",
      "    self._sock.sendall(b)\n",
      "ConnectionAbortedError: [WinError 10053] An established connection was aborted by the software in your host machine\n",
      "----------------------------------------\n",
      "Traceback (most recent call last):\n",
      "  File \"C:\\ProgramData\\Anaconda3\\lib\\socketserver.py\", line 683, in process_request_thread\n",
      "    self.finish_request(request, client_address)\n",
      "  File \"C:\\ProgramData\\Anaconda3\\lib\\socketserver.py\", line 360, in finish_request\n",
      "    self.RequestHandlerClass(request, client_address, self)\n",
      "  File \"C:\\ProgramData\\Anaconda3\\lib\\socketserver.py\", line 747, in __init__\n",
      "    self.handle()\n",
      "  File \"C:\\ProgramData\\Anaconda3\\lib\\http\\server.py\", line 425, in handle\n",
      "    self.handle_one_request()\n",
      "  File \"C:\\ProgramData\\Anaconda3\\lib\\http\\server.py\", line 413, in handle_one_request\n",
      "    method()\n",
      "  File \"C:\\Users\\Ahmed\\AppData\\Roaming\\Python\\Python39\\site-packages\\netron\\server.py\", line 104, in do_GET\n",
      "    self._write(status_code, content_type, content)\n",
      "  File \"C:\\Users\\Ahmed\\AppData\\Roaming\\Python\\Python39\\site-packages\\netron\\server.py\", line 117, in _write\n",
      "    self.wfile.write(content)\n",
      "  File \"C:\\ProgramData\\Anaconda3\\lib\\socketserver.py\", line 826, in write\n",
      "    self._sock.sendall(b)\n",
      "ConnectionAbortedError: [WinError 10053] An established connection was aborted by the software in your host machine\n",
      "----------------------------------------\n"
     ]
    }
   ],
   "source": [
    "netron.start(\"gpt-j-6B-int8-static/model.onnx\")  #where this model is in the local machine in the gpt-j-6B-int8-static folder"
   ]
  },
  {
   "cell_type": "code",
   "execution_count": null,
   "id": "810ba034",
   "metadata": {},
   "outputs": [],
   "source": []
  }
 ],
 "metadata": {
  "kernelspec": {
   "display_name": "Python 3 (ipykernel)",
   "language": "python",
   "name": "python3"
  },
  "language_info": {
   "codemirror_mode": {
    "name": "ipython",
    "version": 3
   },
   "file_extension": ".py",
   "mimetype": "text/x-python",
   "name": "python",
   "nbconvert_exporter": "python",
   "pygments_lexer": "ipython3",
   "version": "3.9.12"
  }
 },
 "nbformat": 4,
 "nbformat_minor": 5
}
